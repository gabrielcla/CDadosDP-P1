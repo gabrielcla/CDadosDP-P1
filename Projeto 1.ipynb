{
 "cells": [
  {
   "cell_type": "markdown",
   "metadata": {},
   "source": [
    "___\n",
    "# Ciência dos Dados - PROJETO 1"
   ]
  },
  {
   "cell_type": "markdown",
   "metadata": {},
   "source": [
    "## Gabriel Couto & Daniel"
   ]
  },
  {
   "cell_type": "markdown",
   "metadata": {},
   "source": [
    "## Perfil dos adultos brasileiros economicamente ativos por sexo e região"
   ]
  },
  {
   "cell_type": "markdown",
   "metadata": {},
   "source": [
    "\n",
    "## Introdução\n",
    "\n",
    "Variáveis Analizadas: <br>\n",
    "    -Idade <br>\n",
    "    -Sexo <br>\n",
    "    -Estado Civil <br>\n",
    "    -Região <br>\n",
    "    -Economicamente Ativo ou Inativo <br>\n",
    "    -Carga Horária de trabalho (h) <br>\n",
    "    -Nível acadêmico mais elevado que alcançou<br> \n",
    "    -Rendimento mensal de todos os trabalhos (reais) <br>\n",
    "    -Rendimento mensal de todas as fontes(reais) <br>\n",
    "\n",
    "Analizar\n",
    "Descreva aqui o que pretende analisar! <br>\n",
    "OBS:Todos que são economicamente inativos tem Renda do trabalho NaN"
   ]
  },
  {
   "cell_type": "markdown",
   "metadata": {},
   "source": [
    "___\n",
    "## Filtros da base de dados"
   ]
  },
  {
   "cell_type": "code",
   "execution_count": 15,
   "metadata": {},
   "outputs": [],
   "source": [
    "%matplotlib inline\n",
    "import pandas as pd\n",
    "import matplotlib.pyplot as plt\n",
    "import numpy as np\n",
    "tabela = pd.read_table(\"PES2015.csv\", encoding=\"windows-1252\", sep=\",\")"
   ]
  },
  {
   "cell_type": "code",
   "execution_count": 16,
   "metadata": {},
   "outputs": [],
   "source": [
    "colunas = ['V8005', #Int\n",
    "           'V0302','V4704','V4707','UF', #Category\n",
    "           'V4719'] #Float\n",
    "\n",
    "dados = tabela.loc[:,colunas]\n",
    "\n",
    "#Adotando nomes mais identificáveis às colunas:\n",
    "colunas[0] = 'Idade' #FILTRAR ADULTOS DEPOIS\n",
    "\n",
    "colunas[1] = 'Sexo'\n",
    "colunas[2] = 'Economicamente' #Condição de atividade na semana\n",
    "colunas[3] = 'CH de trabalho (h)' #Horas trabalhadas na semana em todos empregos (Carga Horária de Trabalho semanal)\n",
    "colunas[4] = 'Região'\n",
    "colunas[5] = 'Rend. trabalho(R$)' #Rendimento mensal de todos os trabalhos (para maiores de 10 anos)\n",
    "\n",
    "\n",
    "#Renomeando colunas\n",
    "dados.columns = colunas \n",
    "\n",
    "#Unindo estados por regiões:\n",
    "dados['Região'] = dados['Região']//10 \n",
    "    \n",
    "#Definindo as variáveis qualitativas como categóricas:\n",
    "for i in range(1,5): #1 a 4\n",
    "    dados[colunas[i]] = dados[colunas[i]].astype('category')\n",
    "    \n",
    "#Definindo as categorias das variáveis categóricas:\n",
    "dados[colunas[1]].cat.categories=(['Masculino','Feminino'])\n",
    "dados[colunas[2]].cat.categories=(['Ativa','Inativa'])\n",
    "dados[colunas[3]].cat.categories=(['< 14','15 a 39','40 a 44','45 a 48','> 49'])\n",
    "dados[colunas[4]].cat.categories=(['Norte','Nordeste','Sudeste','Sul','Centro-Oeste']) \n",
    "\n",
    "#Fazendo o filtro dos adultos\n",
    "dados=dados[dados.Idade>=18]"
   ]
  },
  {
   "cell_type": "markdown",
   "metadata": {},
   "source": [
    "___\n",
    "## Análise e Resultados"
   ]
  },
  {
   "cell_type": "code",
   "execution_count": null,
   "metadata": {},
   "outputs": [],
   "source": [
    "#dados[(dados.Economicamente=='Ativa')&(dados['Rend. trabalho(R$)']==0)]"
   ]
  },
  {
   "cell_type": "markdown",
   "metadata": {},
   "source": [
    "**Para analisar os gráficos individualmente basta retirar os # das linhas**"
   ]
  },
  {
   "cell_type": "code",
   "execution_count": 25,
   "metadata": {},
   "outputs": [],
   "source": [
    "grafico=pd.crosstab(dados.Região,dados.Economicamente,margins=True,rownames=['Região'], colnames=['Economicamente'], normalize='index')*100\n",
    "# plot = grafico.plot(kind='bar', stacked=True,title='Pessoas economicamente ativas por região');\n",
    "# plot.set_ylim([0, 100])\n",
    "# #plt.ylabel('Freq.Relativa (em%)')\n",
    "\n",
    "# ax = plt.subplot(111)\n",
    "# box = ax.get_position()\n",
    "# ax.set_position([box.x0, box.y0, box.width * 0.8, box.height])\n",
    "# ax.legend(loc='center left', bbox_to_anchor=(1, 0.5))"
   ]
  },
  {
   "cell_type": "code",
   "execution_count": 26,
   "metadata": {},
   "outputs": [],
   "source": [
    "grafico=pd.crosstab(dados.Região,dados.Sexo[(dados.Economicamente=='Ativa')],margins=True,rownames=['Região'], colnames=['Sexo'], normalize='index')*100\n",
    "# plot = grafico.plot(kind='bar', stacked=True,title='Pessoas Economicamente Ativas por Região');\n",
    "# plot.set_ylim([0, 100])\n",
    "# plt.ylabel('Freq.Relativa (em%)')\n",
    "\n",
    "# ax = plt.subplot(111)\n",
    "# box = ax.get_position()\n",
    "# ax.set_position([box.x0, box.y0, box.width * 0.8, box.height])\n",
    "# ax.legend(loc='center left', bbox_to_anchor=(1, 0.5))"
   ]
  },
  {
   "cell_type": "code",
   "execution_count": 20,
   "metadata": {},
   "outputs": [],
   "source": [
    "grafico=pd.crosstab(dados.Região,dados.Sexo[(dados.Economicamente=='Inativa')],margins=True,rownames=['Região'], colnames=['Sexo'], normalize='index')*100\n",
    "#plot = grafico.plot(kind='bar', stacked=True,title='Pessoas Economicamente Inativas por Região');\n",
    "#plot.set_ylim([0, 100])\n",
    "#plt.ylabel('Freq.Relativa (em%)')\n",
    "\n",
    "#Para legenda ficar fora do gráfico\n",
    "#ax = plt.subplot(111)\n",
    "#box = ax.get_position()\n",
    "#ax.set_position([box.x0, box.y0, box.width * 0.8, box.height])\n",
    "#ax.legend(loc='center left', bbox_to_anchor=(1, 0.5))"
   ]
  },
  {
   "cell_type": "markdown",
   "metadata": {},
   "source": [
    "![grafico_economicamente](grafico_economicamente.png)"
   ]
  },
  {
   "cell_type": "code",
   "execution_count": 29,
   "metadata": {
    "scrolled": false
   },
   "outputs": [],
   "source": [
    "grafico1=pd.crosstab(dados.Região[(dados.Economicamente=='Ativa')&(dados.Sexo=='Feminino')],dados['CH de trabalho (h)'],margins=True,rownames=['Região'], colnames=['CH de Trabalho (h)'], normalize='index')*100\n",
    "# plot = grafico1.plot(kind='bar', stacked=True,title='Carga horária de trabalho das mulheres');\n",
    "# plot.set_ylim([0, 100])\n",
    "# plt.ylabel('Freq.Relativa (em%)')\n",
    "\n",
    "# ax = plt.subplot(111)\n",
    "# box = ax.get_position()\n",
    "# ax.set_position([box.x0, box.y0, box.width * 0.8, box.height])\n",
    "# ax.legend(loc='center left', bbox_to_anchor=(1, 0.5))"
   ]
  },
  {
   "cell_type": "code",
   "execution_count": 30,
   "metadata": {},
   "outputs": [],
   "source": [
    "grafico2=pd.crosstab(dados.Região[(dados.Economicamente=='Ativa')&(dados.Sexo=='Masculino')],dados['CH de trabalho (h)'],margins=True,rownames=['Região'], colnames=['CH de Trabalho (h)'], normalize='index')*100\n",
    "# plot = grafico2.plot(kind='bar', stacked=True,title='Carga horária de trabalho dos homens');\n",
    "# plot.set_ylim([0, 100])\n",
    "# plt.ylabel('Freq.Relativa (em%)')\n",
    "\n",
    "# ax = plt.subplot(111)\n",
    "# box = ax.get_position()\n",
    "# ax.set_position([box.x0, box.y0, box.width * 0.8, box.height])\n",
    "# ax.legend(loc='center left', bbox_to_anchor=(1, 0.5))"
   ]
  },
  {
   "cell_type": "markdown",
   "metadata": {},
   "source": [
    "![grafico_carga_horaria](grafico_carga_horaria.png)"
   ]
  },
  {
   "cell_type": "code",
   "execution_count": 23,
   "metadata": {
    "scrolled": true
   },
   "outputs": [
    {
     "data": {
      "text/html": [
       "<div>\n",
       "<style scoped>\n",
       "    .dataframe tbody tr th:only-of-type {\n",
       "        vertical-align: middle;\n",
       "    }\n",
       "\n",
       "    .dataframe tbody tr th {\n",
       "        vertical-align: top;\n",
       "    }\n",
       "\n",
       "    .dataframe thead th {\n",
       "        text-align: right;\n",
       "    }\n",
       "</style>\n",
       "<table border=\"1\" class=\"dataframe\">\n",
       "  <thead>\n",
       "    <tr style=\"text-align: right;\">\n",
       "      <th>CH de Trabalho (h)</th>\n",
       "      <th>&lt; 14</th>\n",
       "      <th>15 a 39</th>\n",
       "      <th>40 a 44</th>\n",
       "      <th>45 a 48</th>\n",
       "      <th>&gt; 49</th>\n",
       "    </tr>\n",
       "    <tr>\n",
       "      <th>Região</th>\n",
       "      <th></th>\n",
       "      <th></th>\n",
       "      <th></th>\n",
       "      <th></th>\n",
       "      <th></th>\n",
       "    </tr>\n",
       "  </thead>\n",
       "  <tbody>\n",
       "    <tr>\n",
       "      <th>Norte</th>\n",
       "      <td>2.752167</td>\n",
       "      <td>22.175588</td>\n",
       "      <td>48.445025</td>\n",
       "      <td>14.104858</td>\n",
       "      <td>12.522361</td>\n",
       "    </tr>\n",
       "    <tr>\n",
       "      <th>Nordeste</th>\n",
       "      <td>3.777198</td>\n",
       "      <td>22.597995</td>\n",
       "      <td>47.840437</td>\n",
       "      <td>13.894548</td>\n",
       "      <td>11.889822</td>\n",
       "    </tr>\n",
       "    <tr>\n",
       "      <th>Sudeste</th>\n",
       "      <td>3.402345</td>\n",
       "      <td>12.114521</td>\n",
       "      <td>52.928189</td>\n",
       "      <td>15.904155</td>\n",
       "      <td>15.650789</td>\n",
       "    </tr>\n",
       "    <tr>\n",
       "      <th>Sul</th>\n",
       "      <td>2.829937</td>\n",
       "      <td>11.559462</td>\n",
       "      <td>57.071514</td>\n",
       "      <td>11.073379</td>\n",
       "      <td>17.465708</td>\n",
       "    </tr>\n",
       "    <tr>\n",
       "      <th>Centro-Oeste</th>\n",
       "      <td>2.896266</td>\n",
       "      <td>12.126884</td>\n",
       "      <td>55.157127</td>\n",
       "      <td>14.609398</td>\n",
       "      <td>15.210324</td>\n",
       "    </tr>\n",
       "    <tr>\n",
       "      <th>All</th>\n",
       "      <td>3.250139</td>\n",
       "      <td>16.417228</td>\n",
       "      <td>51.783440</td>\n",
       "      <td>14.149968</td>\n",
       "      <td>14.399225</td>\n",
       "    </tr>\n",
       "  </tbody>\n",
       "</table>\n",
       "</div>"
      ],
      "text/plain": [
       "CH de Trabalho (h)      < 14    15 a 39    40 a 44    45 a 48       > 49\n",
       "Região                                                                  \n",
       "Norte               2.752167  22.175588  48.445025  14.104858  12.522361\n",
       "Nordeste            3.777198  22.597995  47.840437  13.894548  11.889822\n",
       "Sudeste             3.402345  12.114521  52.928189  15.904155  15.650789\n",
       "Sul                 2.829937  11.559462  57.071514  11.073379  17.465708\n",
       "Centro-Oeste        2.896266  12.126884  55.157127  14.609398  15.210324\n",
       "All                 3.250139  16.417228  51.783440  14.149968  14.399225"
      ]
     },
     "execution_count": 23,
     "metadata": {},
     "output_type": "execute_result"
    }
   ],
   "source": [
    "grafico=pd.crosstab(dados.Região[(dados.Economicamente=='Ativa')&(dados.Sexo=='Masculino')],dados['CH de trabalho (h)'],margins=True,rownames=['Região'], colnames=['CH de Trabalho (h)'], normalize='index')*100\n",
    "grafico"
   ]
  },
  {
   "cell_type": "markdown",
   "metadata": {},
   "source": [
    "___\n",
    "## Conclusão "
   ]
  },
  {
   "cell_type": "markdown",
   "metadata": {
    "collapsed": true
   },
   "source": [
    "Descreva aqui suas conclusões!"
   ]
  },
  {
   "cell_type": "code",
   "execution_count": null,
   "metadata": {},
   "outputs": [],
   "source": []
  }
 ],
 "metadata": {
  "anaconda-cloud": {},
  "kernelspec": {
   "display_name": "Python 3",
   "language": "python",
   "name": "python3"
  },
  "language_info": {
   "codemirror_mode": {
    "name": "ipython",
    "version": 3
   },
   "file_extension": ".py",
   "mimetype": "text/x-python",
   "name": "python",
   "nbconvert_exporter": "python",
   "pygments_lexer": "ipython3",
   "version": "3.7.1"
  }
 },
 "nbformat": 4,
 "nbformat_minor": 1
}
