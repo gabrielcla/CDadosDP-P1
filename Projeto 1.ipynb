{
 "cells": [
  {
   "cell_type": "markdown",
   "metadata": {},
   "source": [
    "___\n",
    "# Ciência dos Dados - PROJETO 1"
   ]
  },
  {
   "cell_type": "markdown",
   "metadata": {},
   "source": [
    "## Gabriel Couto & Daniel"
   ]
  },
  {
   "cell_type": "markdown",
   "metadata": {},
   "source": [
    "## Perfil dos brasileiros economicamente ativos"
   ]
  },
  {
   "cell_type": "markdown",
   "metadata": {},
   "source": [
    "___\n",
    "## Introdução\n",
    "\n",
    "Variáveis Analizadas: <br>\n",
    "    -Idade <br>\n",
    "    -Sexo <br>\n",
    "    -Estado Civil <br>\n",
    "    -Região <br>\n",
    "    -Economicamente Ativo ou Inativo <br>\n",
    "    -Carga Horária de trabalho (h) <br>\n",
    "    -Nível acadêmico mais elevado que alcançou<br> \n",
    "    -Rendimento mensal de todos os trabalhos (reais) <br>\n",
    "    -Rendimento mensal de todas as fontes(reais) <br>\n",
    "\n",
    "Analizar\n",
    "Descreva aqui o que pretende analisar! <br>\n",
    "OBS:Todos que são economicamente inativos tem Renda do trabalho NaN"
   ]
  },
  {
   "cell_type": "markdown",
   "metadata": {},
   "source": [
    "___\n",
    "## Filtros da base de dados"
   ]
  },
  {
   "cell_type": "code",
   "execution_count": 141,
   "metadata": {},
   "outputs": [],
   "source": [
    "%matplotlib inline\n",
    "import pandas as pd\n",
    "import matplotlib.pyplot as plt\n",
    "import numpy as np\n",
    "tabela = pd.read_table(\"PES2015.csv\", encoding=\"windows-1252\", sep=\",\")"
   ]
  },
  {
   "cell_type": "code",
   "execution_count": 179,
   "metadata": {},
   "outputs": [],
   "source": [
    "colunas = ['V8005', #Int\n",
    "           'V0302','V4011','V4704','V4707','V6007','UF', #Category\n",
    "           'V4719','V4720'] #Float\n",
    "\n",
    "dados = tabela.loc[:,colunas]\n",
    "\n",
    "#Adotando nomes mais identificáveis às colunas:\n",
    "colunas[0] = 'Idade'\n",
    "\n",
    "colunas[1] = 'Sexo'\n",
    "colunas[2] = 'Estado Civil' \n",
    "colunas[3] = 'Economicamente' #Condição de atividade na semana\n",
    "colunas[4] = 'CH de trabalho (h)' #Horas trabalhadas na semana em todos empregos (Carga Horária de Trabalho semanal)\n",
    "colunas[5] = 'Maior graduação' #Curso mais elevado que frequentou\n",
    "colunas[6] = 'Região'\n",
    "\n",
    "colunas[7] = 'Rend. trabalho(R$)' #Rendimento mensal de todos os trabalhos (para maiores de 10 anos)\n",
    "colunas[8] = 'Rend. total(R$)' #Rendimento mensal de todas fontes (para maiores de 10 anos)\n",
    "\n",
    "#Renomeando colunas\n",
    "dados.columns = colunas \n",
    "\n",
    "#Unindo estados por regiões:\n",
    "dados['Região'] = dados['Região']//10 \n",
    "\n",
    "\n",
    "#Unindo categorias de educação:\n",
    "    #Antes do EF (10) == Alfabetização(10) = Creche (11) = Suplet Alfabetização (12) = Maternal (13)\n",
    "for i in [11,12,13]:\n",
    "    dados.loc[dados['Maior graduação']==i,['Maior graduação']] = 10\n",
    "\n",
    "    #EF (6)  == Elementar(1) = Médio 1º ciclo(2) = EF(4) = Sup EF (6)\n",
    "for i in [1,2,4]:\n",
    "    dados.loc[dados['Maior graduação']==i,['Maior graduação']] = 6\n",
    "\n",
    "    #EM (7)  == Médio 2º ciclo (3) = EM (5) = Sup EM (7)\n",
    "for i in [3,5]:\n",
    "    dados.loc[dados['Maior graduação']==i,['Maior graduação']] = 7\n",
    "\n",
    "    \n",
    "#Definindo as variáveis qualitativas como categóricas:\n",
    "for i in range(1,7): #1 a 6\n",
    "    dados[colunas[i]] = dados[colunas[i]].astype('category')\n",
    "    \n",
    "#Definindo as categorias das variáveis categóricas:\n",
    "dados[colunas[1]].cat.categories=(['Masculino','Feminino'])\n",
    "dados[colunas[2]].cat.categories=(['Solteiro','Casado','Desquisado','Divorciado','Viúvo'])\n",
    "dados[colunas[3]].cat.categories=(['Ativa','Inativa'])\n",
    "dados[colunas[4]].cat.categories=(['< 14','15 a 39','40 a 44','45 a 48','> 49'])\n",
    "dados[colunas[5]].cat.categories=(['Ensino Fundamental','Ensino Médio','Graduação','Mestrado ou Doutorado', 'Antes do EF'])\n",
    "dados[colunas[6]].cat.categories=(['Norte','Nordeste','Sudeste','Sul','Centro-Oeste']) "
   ]
  },
  {
   "cell_type": "code",
   "execution_count": 180,
   "metadata": {},
   "outputs": [
    {
     "data": {
      "text/html": [
       "<div>\n",
       "<style scoped>\n",
       "    .dataframe tbody tr th:only-of-type {\n",
       "        vertical-align: middle;\n",
       "    }\n",
       "\n",
       "    .dataframe tbody tr th {\n",
       "        vertical-align: top;\n",
       "    }\n",
       "\n",
       "    .dataframe thead th {\n",
       "        text-align: right;\n",
       "    }\n",
       "</style>\n",
       "<table border=\"1\" class=\"dataframe\">\n",
       "  <thead>\n",
       "    <tr style=\"text-align: right;\">\n",
       "      <th></th>\n",
       "      <th>Idade</th>\n",
       "      <th>Sexo</th>\n",
       "      <th>Estado Civil</th>\n",
       "      <th>Economicamente</th>\n",
       "      <th>CH de trabalho (h)</th>\n",
       "      <th>Maior graduação</th>\n",
       "      <th>Região</th>\n",
       "      <th>Rend. trabalho(R$)</th>\n",
       "      <th>Rend. total(R$)</th>\n",
       "    </tr>\n",
       "  </thead>\n",
       "  <tbody>\n",
       "    <tr>\n",
       "      <th>0</th>\n",
       "      <td>23</td>\n",
       "      <td>Masculino</td>\n",
       "      <td>Solteiro</td>\n",
       "      <td>Ativa</td>\n",
       "      <td>40 a 44</td>\n",
       "      <td>Ensino Médio</td>\n",
       "      <td>Norte</td>\n",
       "      <td>800.0</td>\n",
       "      <td>800.0</td>\n",
       "    </tr>\n",
       "    <tr>\n",
       "      <th>1</th>\n",
       "      <td>23</td>\n",
       "      <td>Feminino</td>\n",
       "      <td>Divorciado</td>\n",
       "      <td>Ativa</td>\n",
       "      <td>40 a 44</td>\n",
       "      <td>Ensino Médio</td>\n",
       "      <td>Norte</td>\n",
       "      <td>1150.0</td>\n",
       "      <td>1150.0</td>\n",
       "    </tr>\n",
       "    <tr>\n",
       "      <th>2</th>\n",
       "      <td>35</td>\n",
       "      <td>Feminino</td>\n",
       "      <td>NaN</td>\n",
       "      <td>Ativa</td>\n",
       "      <td>40 a 44</td>\n",
       "      <td>NaN</td>\n",
       "      <td>Norte</td>\n",
       "      <td>880.0</td>\n",
       "      <td>880.0</td>\n",
       "    </tr>\n",
       "    <tr>\n",
       "      <th>3</th>\n",
       "      <td>34</td>\n",
       "      <td>Masculino</td>\n",
       "      <td>NaN</td>\n",
       "      <td>Ativa</td>\n",
       "      <td>&gt; 49</td>\n",
       "      <td>Graduação</td>\n",
       "      <td>Norte</td>\n",
       "      <td>3000.0</td>\n",
       "      <td>3000.0</td>\n",
       "    </tr>\n",
       "    <tr>\n",
       "      <th>4</th>\n",
       "      <td>11</td>\n",
       "      <td>Feminino</td>\n",
       "      <td>Solteiro</td>\n",
       "      <td>Inativa</td>\n",
       "      <td>NaN</td>\n",
       "      <td>NaN</td>\n",
       "      <td>Norte</td>\n",
       "      <td>NaN</td>\n",
       "      <td>0.0</td>\n",
       "    </tr>\n",
       "  </tbody>\n",
       "</table>\n",
       "</div>"
      ],
      "text/plain": [
       "   Idade       Sexo Estado Civil Economicamente CH de trabalho (h)  \\\n",
       "0     23  Masculino     Solteiro          Ativa            40 a 44   \n",
       "1     23   Feminino   Divorciado          Ativa            40 a 44   \n",
       "2     35   Feminino          NaN          Ativa            40 a 44   \n",
       "3     34  Masculino          NaN          Ativa               > 49   \n",
       "4     11   Feminino     Solteiro        Inativa                NaN   \n",
       "\n",
       "  Maior graduação Região  Rend. trabalho(R$)  Rend. total(R$)  \n",
       "0    Ensino Médio  Norte               800.0            800.0  \n",
       "1    Ensino Médio  Norte              1150.0           1150.0  \n",
       "2             NaN  Norte               880.0            880.0  \n",
       "3       Graduação  Norte              3000.0           3000.0  \n",
       "4             NaN  Norte                 NaN              0.0  "
      ]
     },
     "execution_count": 180,
     "metadata": {},
     "output_type": "execute_result"
    }
   ],
   "source": [
    "dados.head()"
   ]
  },
  {
   "cell_type": "markdown",
   "metadata": {},
   "source": [
    "___\n",
    "## Análise e Resultados"
   ]
  },
  {
   "cell_type": "code",
   "execution_count": null,
   "metadata": {},
   "outputs": [],
   "source": []
  },
  {
   "cell_type": "markdown",
   "metadata": {},
   "source": [
    "___\n",
    "## Conclusão "
   ]
  },
  {
   "cell_type": "markdown",
   "metadata": {
    "collapsed": true
   },
   "source": [
    "Descreva aqui suas conclusões!"
   ]
  },
  {
   "cell_type": "code",
   "execution_count": null,
   "metadata": {
    "collapsed": true
   },
   "outputs": [],
   "source": []
  }
 ],
 "metadata": {
  "anaconda-cloud": {},
  "kernelspec": {
   "display_name": "Python 3",
   "language": "python",
   "name": "python3"
  },
  "language_info": {
   "codemirror_mode": {
    "name": "ipython",
    "version": 3
   },
   "file_extension": ".py",
   "mimetype": "text/x-python",
   "name": "python",
   "nbconvert_exporter": "python",
   "pygments_lexer": "ipython3",
   "version": "3.7.0"
  }
 },
 "nbformat": 4,
 "nbformat_minor": 1
}
